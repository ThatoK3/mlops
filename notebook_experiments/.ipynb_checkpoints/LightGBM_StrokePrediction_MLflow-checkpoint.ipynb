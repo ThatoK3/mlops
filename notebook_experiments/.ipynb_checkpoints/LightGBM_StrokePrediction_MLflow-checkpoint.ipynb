{
 "cells": [
  {
   "cell_type": "code",
   "execution_count": 20,
   "metadata": {
    "id": "BvId5oG2So7a"
   },
   "outputs": [],
   "source": [
    "# Install required packages\n",
    "#!pip install imbalanced-learn mlflow lightgbm"
   ]
  },
  {
   "cell_type": "code",
   "execution_count": 15,
   "metadata": {
    "id": "ygzLi4oWSuDG"
   },
   "outputs": [],
   "source": [
    "import pandas as pd\n",
    "import numpy as np\n",
    "import matplotlib.pyplot as plt\n",
    "import seaborn as sns\n",
    "from sklearn.model_selection import train_test_split\n",
    "from sklearn.metrics import (accuracy_score, classification_report,\n",
    "                           roc_auc_score, recall_score, f1_score,\n",
    "                           precision_score, average_precision_score)\n",
    "from sklearn.preprocessing import StandardScaler\n",
    "from imblearn.over_sampling import SMOTE\n",
    "from imblearn.pipeline import Pipeline\n",
    "from sklearn.compose import ColumnTransformer\n",
    "from sklearn.preprocessing import OneHotEncoder\n",
    "from sklearn.impute import SimpleImputer\n",
    "import lightgbm as lgb\n",
    "import joblib\n",
    "import mlflow\n",
    "import mlflow.lightgbm\n",
    "import warnings\n",
    "warnings.filterwarnings(\"ignore\")"
   ]
  },
  {
   "cell_type": "code",
   "execution_count": 16,
   "metadata": {},
   "outputs": [
    {
     "name": "stdout",
     "output_type": "stream",
     "text": [
      "/home/jovyan\n"
     ]
    }
   ],
   "source": [
    "%cd /home/jovyan/"
   ]
  },
  {
   "cell_type": "code",
   "execution_count": 17,
   "metadata": {
    "id": "olknQY0bS0s8"
   },
   "outputs": [],
   "source": [
    "# Data Loading and Preprocessing\n",
    "df = pd.read_csv(\"work/notebook_experiments/healthcare-dataset-stroke-data.csv\")"
   ]
  },
  {
   "cell_type": "code",
   "execution_count": 18,
   "metadata": {
    "id": "D3huhTDfS4F-"
   },
   "outputs": [],
   "source": [
    "# Data Cleaning\n",
    "df[\"bmi\"] = df[\"bmi\"].fillna(df[\"bmi\"].median())\n",
    "df = df[df['gender'] != 'Other']"
   ]
  },
  {
   "cell_type": "code",
   "execution_count": 19,
   "metadata": {
    "id": "j21FZD_zS-go"
   },
   "outputs": [],
   "source": [
    "# Feature Selection\n",
    "selected_features = ['gender', 'age', 'hypertension', 'heart_disease',\n",
    "                    'avg_glucose_level', 'bmi', 'smoking_status', 'stroke']\n",
    "df = df[selected_features]\n",
    "\n",
    "# Feature Engineering\n",
    "df_fe = df.copy()\n",
    "# 1. Age Grouping\n",
    "df_fe['age_group'] = pd.cut(df_fe['age'],\n",
    "                           bins=[0, 50, 80, 120],\n",
    "                           labels=['Young', 'Middle-aged', 'Senior'])\n",
    "\n",
    "# 2. BMI Categories\n",
    "df_fe['bmi_category'] = pd.cut(df_fe['bmi'],\n",
    "                              bins=[0, 18.5, 25, 30, 35, 40, 100],\n",
    "                              labels=['Underweight', 'Normal', 'Overweight',\n",
    "                                     'Obese I', 'Obese II', 'Obese III'])\n",
    "\n",
    "# 3. Glucose Categories\n",
    "df_fe['glucose_category'] = pd.cut(df_fe['avg_glucose_level'],\n",
    "                                  bins=[0, 70, 100, 126, 200, 300],\n",
    "                                  labels=['Low', 'Normal', 'Prediabetic',\n",
    "                                         'Diabetic', 'Severe'])"
   ]
  },
  {
   "cell_type": "code",
   "execution_count": 20,
   "metadata": {
    "id": "2xV0vj_TTDb3"
   },
   "outputs": [],
   "source": [
    "# Identify feature types\n",
    "categorical_cols = ['gender', 'smoking_status', 'age_group',\n",
    "                   'bmi_category', 'glucose_category']\n",
    "numerical_cols = [col for col in df_fe.columns\n",
    "                 if col not in categorical_cols + ['stroke']]"
   ]
  },
  {
   "cell_type": "code",
   "execution_count": 21,
   "metadata": {
    "id": "Victos8rTFbL"
   },
   "outputs": [],
   "source": [
    "# Preprocessing\n",
    "numeric_transformer = Pipeline(steps=[\n",
    "    ('imputer', SimpleImputer(strategy='median')),\n",
    "    ('scaler', StandardScaler())\n",
    "])\n",
    "\n",
    "# Convert categorical columns to string type first\n",
    "for col in categorical_cols:\n",
    "    df_fe[col] = df_fe[col].astype(str)\n",
    "\n",
    "categorical_transformer = Pipeline(steps=[\n",
    "    ('imputer', SimpleImputer(strategy='most_frequent')),\n",
    "    ('encoder', OneHotEncoder(handle_unknown='ignore'))\n",
    "])\n",
    "\n",
    "preprocessor = ColumnTransformer(transformers=[\n",
    "    ('num', numeric_transformer, numerical_cols),\n",
    "    ('cat', categorical_transformer, categorical_cols)\n",
    "])"
   ]
  },
  {
   "cell_type": "code",
   "execution_count": 22,
   "metadata": {
    "id": "SmIYfND5TLwc"
   },
   "outputs": [],
   "source": [
    "# Train-test split\n",
    "X = df_fe.drop(columns=['stroke'])\n",
    "y = df_fe['stroke']\n",
    "X_train, X_test, y_train, y_test = train_test_split(\n",
    "    X, y, test_size=0.2, random_state=42, stratify=y)\n",
    "\n",
    "# Calculate class weights\n",
    "class_weights = len(y_train[y_train == 0]) / len(y_train[y_train == 1])\n",
    "\n"
   ]
  },
  {
   "cell_type": "code",
   "execution_count": null,
   "metadata": {},
   "outputs": [],
   "source": [
    "# MLflow Experiment\n",
    "mlflow.set_experiment(\"Stroke_Prediction_LightGBM\")\n",
    "mlflow.lightgbm.autolog()\n",
    "mlflow.set_tracking_uri(\"http://103.54.58.78:5000\")"
   ]
  },
  {
   "cell_type": "code",
   "execution_count": 12,
   "metadata": {
    "colab": {
     "base_uri": "https://localhost:8080/",
     "height": 1000
    },
    "id": "hynertxgSCMQ",
    "outputId": "663ef385-a642-43e9-d76a-8b06524c1c68"
   },
   "outputs": [
    {
     "name": "stderr",
     "output_type": "stream",
     "text": [
      "\u001b[31m2025/06/19 19:34:13 WARNING mlflow.models.model: Model logged without a signature and input example. Please set `input_example` parameter when logging the model to auto infer the model signature.\u001b[0m\n"
     ]
    },
    {
     "name": "stdout",
     "output_type": "stream",
     "text": [
      "\n",
      "--- LightGBM Classifier ---\n",
      "              precision    recall  f1-score   support\n",
      "\n",
      "           0     0.9686    0.7613    0.8525       972\n",
      "           1     0.1008    0.5200    0.1688        50\n",
      "\n",
      "    accuracy                         0.7495      1022\n",
      "   macro avg     0.5347    0.6407    0.5107      1022\n",
      "weighted avg     0.9261    0.7495    0.8191      1022\n",
      "\n",
      "ROC-AUC: 0.7659\n",
      "PR-AUC: 0.1227\n",
      "🏃 View run Stroke_Prediction_LightGBM_v1 at: http://45.151.153.107:5000/#/experiments/1/runs/47cade8cb62d489ebef429abb567d065\n",
      "🧪 View experiment at: http://45.151.153.107:5000/#/experiments/1\n"
     ]
    },
    {
     "data": {
      "text/plain": [
       "<Figure size 1000x600 with 0 Axes>"
      ]
     },
     "metadata": {},
     "output_type": "display_data"
    }
   ],
   "source": [
    "with mlflow.start_run(run_name=\"Stroke_Prediction_LightGBM_v1\"):\n",
    "    # LightGBM pipeline - removing categorical_feature parameter\n",
    "    lgb_pipeline = Pipeline(steps=[\n",
    "        ('preprocessor', preprocessor),\n",
    "        ('smote', SMOTE(random_state=42)),\n",
    "        ('classifier', lgb.LGBMClassifier(\n",
    "            objective='binary',\n",
    "            random_state=42,\n",
    "            scale_pos_weight=class_weights,\n",
    "            n_estimators=200,\n",
    "            max_depth=5,\n",
    "            learning_rate=0.05,\n",
    "            metric='aucpr',\n",
    "            verbosity=-1\n",
    "        ))\n",
    "    ])\n",
    "\n",
    "    mlflow.set_tag(\"mlflow.user\", \"Thato\")\n",
    "\n",
    "    # Train model\n",
    "    lgb_pipeline.fit(X_train, y_train)\n",
    "\n",
    "    # Predictions\n",
    "    y_pred = lgb_pipeline.predict(X_test)\n",
    "    y_proba = lgb_pipeline.predict_proba(X_test)[:, 1]\n",
    "\n",
    "    # Metrics\n",
    "    metrics = {\n",
    "        'accuracy': accuracy_score(y_test, y_pred),\n",
    "        'precision': precision_score(y_test, y_pred, zero_division=0),\n",
    "        'recall': recall_score(y_test, y_pred),\n",
    "        'f1': f1_score(y_test, y_pred),\n",
    "        'roc_auc': roc_auc_score(y_test, y_proba),\n",
    "        'pr_auc': average_precision_score(y_test, y_proba)\n",
    "    }\n",
    "\n",
    "    # Log metrics\n",
    "    mlflow.log_metrics(metrics)\n",
    "\n",
    "    # Log parameters\n",
    "    mlflow.log_params({\n",
    "        'n_estimators': 200,\n",
    "        'max_depth': 5,\n",
    "        'learning_rate': 0.05,\n",
    "        'scale_pos_weight': class_weights\n",
    "    })\n",
    "\n",
    "    # Save model\n",
    "    joblib.dump(lgb_pipeline, \"lightgbm_model.pkl\")\n",
    "    mlflow.sklearn.log_model(lgb_pipeline, \"model\")\n",
    "\n",
    "    # Results\n",
    "    print(\"\\n--- LightGBM Classifier ---\")\n",
    "    print(classification_report(y_test, y_pred, digits=4))\n",
    "    print(f\"ROC-AUC: {metrics['roc_auc']:.4f}\")\n",
    "    print(f\"PR-AUC: {metrics['pr_auc']:.4f}\")\n",
    "\n",
    "    # Feature Importance\n",
    "    try:\n",
    "        lgb_model = lgb_pipeline.named_steps['classifier']\n",
    "        plt.figure(figsize=(10, 6))\n",
    "        lgb.plot_importance(lgb_model, importance_type='gain')\n",
    "        plt.title(\"LightGBM Feature Importance (Gain)\")\n",
    "        plt.tight_layout()\n",
    "        plt.savefig(\"feature_importance.png\")\n",
    "        mlflow.log_artifact(\"feature_importance.png\")\n",
    "        plt.close()\n",
    "    except Exception as e:\n",
    "        print(f\"Feature importance error: {str(e)}\")\n",
    "\n",
    "    # Confusion Matrix\n",
    "    from sklearn.metrics import confusion_matrix, ConfusionMatrixDisplay\n",
    "    cm = confusion_matrix(y_test, y_pred)\n",
    "    disp = ConfusionMatrixDisplay(cm, display_labels=['No Stroke', 'Stroke'])\n",
    "    disp.plot(cmap='Blues', values_format='d')\n",
    "    plt.title(\"Confusion Matrix\")\n",
    "    plt.savefig(\"confusion_matrix.png\")\n",
    "    mlflow.log_artifact(\"confusion_matrix.png\")\n",
    "    plt.close()\n",
    "\n",
    "    # PR Curve\n",
    "    from sklearn.metrics import PrecisionRecallDisplay\n",
    "    PrecisionRecallDisplay.from_predictions(y_test, y_proba, name=\"LightGBM\")\n",
    "    plt.title(\"Precision-Recall Curve\")\n",
    "    plt.savefig(\"pr_curve.png\")\n",
    "    mlflow.log_artifact(\"pr_curve.png\")\n",
    "    plt.close()"
   ]
  },
  {
   "cell_type": "code",
   "execution_count": 17,
   "metadata": {
    "id": "hBbmLMFgS1U9"
   },
   "outputs": [
    {
     "name": "stdout",
     "output_type": "stream",
     "text": [
      "lightgbm_model.pkl  mlflow  mlruns  work\n"
     ]
    }
   ],
   "source": [
    "!dir"
   ]
  },
  {
   "cell_type": "code",
   "execution_count": 16,
   "metadata": {},
   "outputs": [],
   "source": [
    "!mkdir mlflow"
   ]
  },
  {
   "cell_type": "code",
   "execution_count": null,
   "metadata": {},
   "outputs": [],
   "source": []
  }
 ],
 "metadata": {
  "colab": {
   "provenance": []
  },
  "kernelspec": {
   "display_name": "Python 3 (ipykernel)",
   "language": "python",
   "name": "python3"
  },
  "language_info": {
   "codemirror_mode": {
    "name": "ipython",
    "version": 3
   },
   "file_extension": ".py",
   "mimetype": "text/x-python",
   "name": "python",
   "nbconvert_exporter": "python",
   "pygments_lexer": "ipython3",
   "version": "3.11.6"
  }
 },
 "nbformat": 4,
 "nbformat_minor": 4
}
